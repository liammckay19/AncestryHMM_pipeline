{
 "cells": [
  {
   "cell_type": "code",
   "execution_count": 1,
   "metadata": {
    "collapsed": true
   },
   "outputs": [],
   "source": [
    "import sys\n",
    "import re\n",
    "import io"
   ]
  },
  {
   "cell_type": "code",
   "execution_count": 2,
   "metadata": {
    "collapsed": true
   },
   "outputs": [],
   "source": [
    "class VCFreader :\n",
    "    ''' \n",
    "    Define objects to read VCF or carriage-returned files.\n",
    "    instantiation: \n",
    "    thisReader = FastAreader ('testTiny.vcf')\n",
    "    usage:\n",
    "    for line in thisReader.readVCF():\n",
    "        #### print (line)\n",
    "    '''\n",
    "    def __init__ (self, fname=''):\n",
    "        '''contructor: saves attribute fname '''\n",
    "        self.fname = fname\n",
    "    def doOpen (self):\n",
    "        ''' Handle file opens, allowing STDIN.'''\n",
    "        if self.fname is '':\n",
    "            return sys.stdin\n",
    "        else:\n",
    "            return open(self.fname)\n",
    "    def readVCF (self):\n",
    "        ''' Read an entire file and return the lines'''\n",
    "        header = ''\n",
    "        sequence = ''\n",
    "        with self.doOpen() as fileH:\n",
    "            # skip to first fasta header\n",
    "            line = fileH.readline()\n",
    "            while not line.startswith('##') :\n",
    "                line = fileH.readline()\n",
    "            for line in fileH:\n",
    "                yield line\n",
    "        yield line\n"
   ]
  },
  {
   "cell_type": "code",
   "execution_count": 11,
   "metadata": {},
   "outputs": [
    {
     "name": "stdout",
     "output_type": "stream",
     "text": [
      "Set a C cutoff value: 0.5\n",
      "Detected columns: ['#CHROM', 'POS', 'ID', 'REF', 'ALT', 'QUAL', 'FILTER', 'INFO', 'FORMAT', 'Bactrian_Camel', 'alpaca0', 'alpaca1', 'alpaca10', 'alpaca11', 'alpaca13', 'alpaca4', 'alpaca7', 'alpaca9', 'guanaco0', 'guanaco22', 'guanaco24', 'guanaco27', 'guanaco28', 'guanaco31', 'guanaco32', 'guanaco8', 'llama0', 'llama14A', 'llama16', 'llama17', 'llama17A', 'llama19', 'llama20', 'llama21', 'vicugna0', 'vicugna18', 'vicugna20', 'vicugna33', 'vicugna37', 'vicugna38', 'vicugna39', 'vicugna40\\n']\n",
      "Reference population name: vicugna\n",
      "330396\n"
     ]
    }
   ],
   "source": [
    "numAboveC = 0\n",
    "read = VCFreader(\"NewChr1.snp.vcf\")\n",
    "# read in arguments from command line (hardcoded)\n",
    "c = input(\"Set a C cutoff value: \")\n",
    "for line in read.readVCF():\n",
    "    denom = 0\n",
    "    numer = 0\n",
    "    lineList = list(line.split('\\t'))\n",
    "    if lineList[0].startswith('##'):\n",
    "        continue\n",
    "    elif lineList[0].startswith('#'):\n",
    "        print(\"Detected columns:\", lineList)\n",
    "        populationName = input(\"Reference population name: \")\n",
    "        populationColumns = [ i for i, column in enumerate(lineList) if re.search('^'+populationName, column) ]\n",
    "    else:\n",
    "        for column in populationColumns:\n",
    "            if (lineList[column][2:3] != '.'):\n",
    "                denom += 1\n",
    "            if (lineList[column][:1] != '.'):\n",
    "                numer += int(lineList[column][:1])\n",
    "        if denom == 0:\n",
    "            denom = 1 # so theres no dividing by zero\n",
    "        if denom > len(populationColumns)/2:\n",
    "            if numer/denom > float(c):\n",
    "                numAboveC+=1\n",
    "                # uncomment this next line to see the output of all allele freqs\n",
    "                # print(\"{}: {} {} {} {} {}/{}={}\".format(populationName,lineList[0],lineList[1],lineList[3],lineList[4],numer,denom,numer/denom))\n",
    "print(numAboveC)\n",
    "\n"
   ]
  },
  {
   "cell_type": "code",
   "execution_count": null,
   "metadata": {
    "collapsed": true
   },
   "outputs": [],
   "source": []
  }
 ],
 "metadata": {
  "anaconda-cloud": {},
  "kernelspec": {
   "display_name": "Python 3",
   "language": "python",
   "name": "python3"
  },
  "language_info": {
   "codemirror_mode": {
    "name": "ipython",
    "version": 3
   },
   "file_extension": ".py",
   "mimetype": "text/x-python",
   "name": "python",
   "nbconvert_exporter": "python",
   "pygments_lexer": "ipython3",
   "version": "3.6.1"
  }
 },
 "nbformat": 4,
 "nbformat_minor": 1
}
