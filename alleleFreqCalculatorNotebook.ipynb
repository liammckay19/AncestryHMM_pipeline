{
 "cells": [
  {
   "cell_type": "code",
   "execution_count": 5,
   "metadata": {
    "collapsed": true
   },
   "outputs": [],
   "source": [
    "import matplotlib.pyplot as plt\n",
    "import csv\n",
    "import numpy as np\n",
    "import pandas as pd\n",
    "import re"
   ]
  },
  {
   "cell_type": "code",
   "execution_count": 6,
   "metadata": {
    "collapsed": true
   },
   "outputs": [],
   "source": [
    "def computeAlleleFreq(dataframe, colname):\n",
    "    dataframe[colname+'freq'] = dataframe[colname].str.replace('[:].*','',0)\n",
    "    dataframe[colname+'freq'] = dataframe[colname+'freq'].str.replace('[.]','0',0)\n",
    "    dataframe[colname+'freq'] = dataframe[colname+'freq'].str.replace('[2-9]','0',0)\n",
    "    dataframe[colname+'freq1st'] = dataframe[colname+'freq'].str[0:1]\n",
    "    dataframe[colname+'freq2nd'] = dataframe[colname+'freq'].str[2:3]\n",
    "    firstAlleleFreq = sum(list(map(int,dataframe[colname+'freq1st'].tolist())))\n",
    "    secondAlleleFreq = sum(list(map(int,dataframe[colname+'freq2nd'].tolist())))\n",
    "    print(firstAlleleFreq,secondAlleleFreq)\n",
    "    return firstAlleleFreq/secondAlleleFreq"
   ]
  },
  {
   "cell_type": "code",
   "execution_count": 7,
   "metadata": {
    "collapsed": true
   },
   "outputs": [],
   "source": [
    "def main():\n",
    "    fname = input(\"File VCF input path:\")\n",
    "    print('File name: ', fname)\n",
    "    dataframeVCF = pd.read_csv(fname, skiprows=range(0,43),sep='\\t')\n",
    "    computeColumns = input(\"List the columns you want to compare separated by commas: \")\n",
    "    computeColumns=computeColumns.split(',')\n",
    "    freqencies = dict()\n",
    "    for column in computeColumns:\n",
    "        freqencies[column] = computeAlleleFreq(dataframeVCF, column)\n",
    "    \n",
    "    pairwiseCompDict = dict()\n",
    "    for key,value in freqencies.items():\n",
    "        if keyi != key:\n",
    "            pairwiseCompDict[''+key+'-'+keyi] = abs(value-valuei)\n",
    "    \n",
    "    #Set the c value for a threshold\n",
    "    c = input(\"Set a threshold c value (float between 0 and 0.25):\")\n",
    "    c = float(c)\n",
    "    for key,value in pairwiseCompDict.items():\n",
    "        if value > c:\n",
    "            print(key,value)"
   ]
  },
  {
   "cell_type": "code",
   "execution_count": null,
   "metadata": {
    "collapsed": false
   },
   "outputs": [],
   "source": [
    "main()"
   ]
  }
 ],
 "metadata": {
  "anaconda-cloud": {},
  "kernelspec": {
   "display_name": "Python [Root]",
   "language": "python",
   "name": "Python [Root]"
  },
  "language_info": {
   "codemirror_mode": {
    "name": "ipython",
    "version": 2
   },
   "file_extension": ".py",
   "mimetype": "text/x-python",
   "name": "python",
   "nbconvert_exporter": "python",
   "pygments_lexer": "ipython2",
   "version": "2.7.12"
  }
 },
 "nbformat": 4,
 "nbformat_minor": 0
}
