{
 "cells": [
  {
   "cell_type": "code",
   "execution_count": 1,
   "metadata": {
    "scrolled": true
   },
   "outputs": [
    {
     "name": "stdout",
     "output_type": "stream",
     "text": [
      "File VCF input path:NewChr1.snp.vcf\n",
      "File name:  NewChr1.snp.vcf\n"
     ]
    }
   ],
   "source": [
    "%%time\n",
    "import matplotlib.pyplot as plt\n",
    "import csv\n",
    "import numpy as np\n",
    "import pandas as pd\n",
    "import re\n",
    "fname = input(\"File VCF input path:\")\n",
    "print('File name: ',fname)\n",
    "dataframeVCF = pd.read_csv(fname, skiprows=range(0,43),sep='\\t')"
   ]
  },
  {
   "cell_type": "code",
   "execution_count": null,
   "metadata": {
    "collapsed": true
   },
   "outputs": [],
   "source": [
    "import sys\n",
    "class VCFreader :\n",
    "    ''' \n",
    "    Define objects to read FastA files.\n",
    "    instantiation: \n",
    "    thisReader = FastAreader ('testTiny.fa')\n",
    "    usage:\n",
    "    for head, seq in thisReader.readFasta():\n",
    "        #### print (head,seq)\n",
    "    '''\n",
    "    def __init__ (self, fname=''):\n",
    "        '''contructor: saves attribute fname '''\n",
    "        self.fname = fname\n",
    "    def doOpen (self):\n",
    "        ''' Handle file opens, allowing STDIN.'''\n",
    "        if self.fname is '':\n",
    "            return sys.stdin\n",
    "        else:\n",
    "            return open(self.fname)\n",
    "    def readVCF (self):\n",
    "        ''' Read an entire FastA record and return the sequence header/sequence'''\n",
    "        header = ''\n",
    "        sequence = ''\n",
    "        with self.doOpen() as fileH:\n",
    "            header = ''\n",
    "            sequence = ''\n",
    "            # skip to first fasta header\n",
    "            line = fileH.readline()\n",
    "            while not line.startswith('##') :\n",
    "                line = fileH.readline()\n",
    "            header = line[1:].rstrip()\n",
    "            for line in fileH:\n",
    "                if line.startswith ('#'):\n",
    "                    yield line\n",
    "                    header = line[1:].rstrip()\n",
    "                    sequence = ''\n",
    "                else :\n",
    "                    sequence += ''.join(line.rstrip().split()).upper()\n",
    "                print(line)\n",
    "        yield line"
   ]
  },
  {
   "cell_type": "code",
   "execution_count": null,
   "metadata": {},
   "outputs": [],
   "source": [
    "testVCF = VCFreader('NewChr1.snp.vcf')"
   ]
  },
  {
   "cell_type": "code",
   "execution_count": null,
   "metadata": {},
   "outputs": [],
   "source": [
    "for i in range(0,20):\n",
    "    next(testVCF.readVCF())\n"
   ]
  },
  {
   "cell_type": "code",
   "execution_count": null,
   "metadata": {},
   "outputs": [
    {
     "name": "stderr",
     "output_type": "stream",
     "text": [
      "IOPub data rate exceeded.\n",
      "The notebook server will temporarily stop sending output\n",
      "to the client in order to avoid crashing it.\n",
      "To change this limit, set the config variable\n",
      "`--NotebookApp.iopub_data_rate_limit`.\n"
     ]
    }
   ],
   "source": [
    "for head, seq in testVCF.readVCF():\n",
    "    print(seq)"
   ]
  },
  {
   "cell_type": "code",
   "execution_count": null,
   "metadata": {},
   "outputs": [],
   "source": [
    "dataframeVCF.info()"
   ]
  },
  {
   "cell_type": "code",
   "execution_count": 30,
   "metadata": {},
   "outputs": [
    {
     "data": {
      "text/plain": [
       "['AC=1',\n",
       " 'AF=0.016',\n",
       " 'AN=64',\n",
       " 'BaseQRankSum=0.363',\n",
       " 'ClippingRankSum=-1.090e+00',\n",
       " 'DP=440',\n",
       " 'FS=1.598',\n",
       " 'GQ_MEAN=45.87',\n",
       " 'GQ_STDDEV=51.87',\n",
       " 'InbreedingCoeff=-0.0188',\n",
       " 'MLEAC=1',\n",
       " 'MLEAF=0.016',\n",
       " 'MQ=43.41',\n",
       " 'MQ0=0',\n",
       " 'MQRankSum=-9.340e-01',\n",
       " 'NCC=1',\n",
       " 'QD=10.45',\n",
       " 'ReadPosRankSum=1.04',\n",
       " 'SOR=0.616']"
      ]
     },
     "execution_count": 30,
     "metadata": {},
     "output_type": "execute_result"
    }
   ],
   "source": [
    "dataframeVCF['INFO'].str.split(';')[1]"
   ]
  },
  {
   "cell_type": "code",
   "execution_count": null,
   "metadata": {
    "collapsed": true
   },
   "outputs": [],
   "source": [
    "dataframeVCF[\"vicugna38\"].str.replace('[:].*','',0)"
   ]
  },
  {
   "cell_type": "code",
   "execution_count": null,
   "metadata": {
    "collapsed": true
   },
   "outputs": [],
   "source": [
    "dataframeVCF['AF']=dataframeVCF.loc[dataframeVCF['INFO']"
   ]
  },
  {
   "cell_type": "code",
   "execution_count": null,
   "metadata": {
    "collapsed": true
   },
   "outputs": [],
   "source": [
    "\n",
    "def computeRefenceAlleleFeqPerSite(dataframe,colname):\n",
    "    dataframe[colname].str.replace('[:].*','',0)\n",
    "    dataframe[colname+'freq'] = dataframe[colname+'freq'].str.replace('[.]','0',0)\n",
    "    dataframe[colname+'freq'] = dataframe[colname+'freq'].str.replace('[2-9]','0',0)\n"
   ]
  },
  {
   "cell_type": "code",
   "execution_count": null,
   "metadata": {},
   "outputs": [],
   "source": [
    "import matplotlib.pyplot as plt\n",
    "import csv\n",
    "import numpy as np\n",
    "import pandas as pd\n",
    "import re\n",
    "\n",
    "def computeAlleleFreq(dataframe,colname):\n",
    "    dataframe[colname+'freq'] = dataframe[colname].str.replace('[:].*','',0)\n",
    "    dataframe[colname+'freq'] = dataframe[colname+'freq'].str.replace('[.]','0',0)\n",
    "    dataframe[colname+'freq'] = dataframe[colname+'freq'].str.replace('[2-9]','0',0)\n",
    "    dataframe[colname+'freq1st'] = dataframe[colname+'freq'].str[0:1]\n",
    "    dataframe[colname+'freq2nd'] = dataframe[colname+'freq'].str[2:3]\n",
    "    firstAlleleFreq = sum(list(map(int,dataframe[colname+'freq1st'].tolist())))\n",
    "    secondAlleleFreq = sum(list(map(int,dataframe[colname+'freq2nd'].tolist())))\n",
    "    print(firstAlleleFreq,secondAlleleFreq)\n",
    "    return firstAlleleFreq/secondAlleleFreq\n",
    "\n",
    "\n",
    "def main():\n",
    "    computeColumns = input(\"List the columns you want to compare separated by commas: \")\n",
    "    computeColumns=computeColumns.split(',')\n",
    "    frequencies=dict()\n",
    "    for column in computeColumns:\n",
    "        frequencies[column] = computeAlleleFreq(dataframeVCF,column)\n",
    "        # frequencies = {'Bactrian_Camel':BactrianCamelFreq,\n",
    "        # 'Vicugna18':VicugnaEighteenFreq...\n",
    "\n",
    "    pairwiseCompDict = dict()\n",
    "    for key,value in frequencies.items():\n",
    "        for keyi,valuei in frequencies.items():\n",
    "            if keyi != key:\n",
    "                pairwiseCompDict[''+key+'-'+keyi]=abs(value-valuei)\n",
    "\n",
    "    # Set the c value for a threshold\n",
    "    c = input(\"Set a threshold c value (float between 0 and 0.25):\")\n",
    "    c = float(c)\n",
    "    if all(i < c for i in pairwiseCompDict.values()):\n",
    "        print(\"Nothing is above the threshold.\")\n",
    "    else:\n",
    "        for key,value in pairwiseCompDict.items():\n",
    "            if value >= c:\n",
    "                print(key,round(value,3))\n",
    "\n",
    "main()"
   ]
  },
  {
   "cell_type": "code",
   "execution_count": 33,
   "metadata": {},
   "outputs": [
    {
     "data": {
      "text/html": [
       "<div>\n",
       "<style>\n",
       "    .dataframe thead tr:only-child th {\n",
       "        text-align: right;\n",
       "    }\n",
       "\n",
       "    .dataframe thead th {\n",
       "        text-align: left;\n",
       "    }\n",
       "\n",
       "    .dataframe tbody tr th {\n",
       "        vertical-align: top;\n",
       "    }\n",
       "</style>\n",
       "<table border=\"1\" class=\"dataframe\">\n",
       "  <thead>\n",
       "    <tr style=\"text-align: right;\">\n",
       "      <th></th>\n",
       "      <th>#CHROM</th>\n",
       "      <th>POS</th>\n",
       "      <th>ID</th>\n",
       "      <th>REF</th>\n",
       "      <th>ALT</th>\n",
       "      <th>QUAL</th>\n",
       "      <th>FILTER</th>\n",
       "      <th>INFO</th>\n",
       "      <th>FORMAT</th>\n",
       "      <th>Bactrian_Camel</th>\n",
       "      <th>...</th>\n",
       "      <th>llama20</th>\n",
       "      <th>llama21</th>\n",
       "      <th>vicugna0</th>\n",
       "      <th>vicugna18</th>\n",
       "      <th>vicugna20</th>\n",
       "      <th>vicugna33</th>\n",
       "      <th>vicugna37</th>\n",
       "      <th>vicugna38</th>\n",
       "      <th>vicugna39</th>\n",
       "      <th>vicugna40</th>\n",
       "    </tr>\n",
       "  </thead>\n",
       "  <tbody>\n",
       "    <tr>\n",
       "      <th>0</th>\n",
       "      <td>NewChr1</td>\n",
       "      <td>8286</td>\n",
       "      <td>.</td>\n",
       "      <td>G</td>\n",
       "      <td>C</td>\n",
       "      <td>6676.13</td>\n",
       "      <td>PASS</td>\n",
       "      <td>AC=31;AF=0.484;AN=64;BaseQRankSum=-6.760e-01;C...</td>\n",
       "      <td>GT:AD:DP:GQ:PL</td>\n",
       "      <td>./.:0,0:0</td>\n",
       "      <td>...</td>\n",
       "      <td>0/1:11,2:13:24:24,0,395</td>\n",
       "      <td>0/0:18,0:18:54:0,54,810</td>\n",
       "      <td>1/1:0,27:27:80:799,80,0</td>\n",
       "      <td>1/1:0,13:13:39:476,39,0</td>\n",
       "      <td>1/1:0,17:17:51:588,51,0</td>\n",
       "      <td>1/1:0,9:9:27:336,27,0</td>\n",
       "      <td>1/1:0,12:12:36:446,36,0</td>\n",
       "      <td>1/1:0,25:25:75:878,75,0</td>\n",
       "      <td>1/1:0,7:7:21:249,21,0</td>\n",
       "      <td>1/1:0,8:8:24:267,24,0</td>\n",
       "    </tr>\n",
       "    <tr>\n",
       "      <th>1</th>\n",
       "      <td>NewChr1</td>\n",
       "      <td>8328</td>\n",
       "      <td>.</td>\n",
       "      <td>C</td>\n",
       "      <td>A</td>\n",
       "      <td>271.81</td>\n",
       "      <td>PASS</td>\n",
       "      <td>AC=1;AF=0.016;AN=64;BaseQRankSum=0.363;Clippin...</td>\n",
       "      <td>GT:AD:DP:GQ:PL</td>\n",
       "      <td>./.:0,0:0</td>\n",
       "      <td>...</td>\n",
       "      <td>0/0:14,0:14:42:0,42,630</td>\n",
       "      <td>0/0:16,0:16:42:0,42,630</td>\n",
       "      <td>0/0:32,0:32:90:0,90,1350</td>\n",
       "      <td>0/0:13,0:13:36:0,36,540</td>\n",
       "      <td>0/0:16,0:16:45:0,45,675</td>\n",
       "      <td>0/0:9,0:9:24:0,24,360</td>\n",
       "      <td>0/0:14,0:14:39:0,39,585</td>\n",
       "      <td>0/0:23,0:23:66:0,66,986</td>\n",
       "      <td>0/0:7,0:7:21:0,21,312</td>\n",
       "      <td>0/0:8,0:8:21:0,21,315</td>\n",
       "    </tr>\n",
       "    <tr>\n",
       "      <th>2</th>\n",
       "      <td>NewChr1</td>\n",
       "      <td>8333</td>\n",
       "      <td>.</td>\n",
       "      <td>G</td>\n",
       "      <td>A</td>\n",
       "      <td>80.81</td>\n",
       "      <td>PASS</td>\n",
       "      <td>AC=1;AF=0.016;AN=64;BaseQRankSum=0.303;Clippin...</td>\n",
       "      <td>GT:AD:DP:GQ:PL</td>\n",
       "      <td>./.:0,0:0</td>\n",
       "      <td>...</td>\n",
       "      <td>0/0:14,0:14:42:0,42,619</td>\n",
       "      <td>0/0:15,0:15:39:0,39,585</td>\n",
       "      <td>0/0:32,0:32:90:0,90,1350</td>\n",
       "      <td>0/0:14,0:14:39:0,39,585</td>\n",
       "      <td>0/0:16,0:16:45:0,45,675</td>\n",
       "      <td>0/0:9,0:9:27:0,27,362</td>\n",
       "      <td>0/0:14,0:14:39:0,39,585</td>\n",
       "      <td>0/0:23,0:23:66:0,66,986</td>\n",
       "      <td>0/0:7,0:7:21:0,21,312</td>\n",
       "      <td>0/0:8,0:8:21:0,21,315</td>\n",
       "    </tr>\n",
       "    <tr>\n",
       "      <th>3</th>\n",
       "      <td>NewChr1</td>\n",
       "      <td>8350</td>\n",
       "      <td>.</td>\n",
       "      <td>G</td>\n",
       "      <td>A</td>\n",
       "      <td>757.97</td>\n",
       "      <td>PASS</td>\n",
       "      <td>AC=4;AF=0.063;AN=64;BaseQRankSum=1.06;Clipping...</td>\n",
       "      <td>GT:AD:DP:GQ:PGT:PID:PL</td>\n",
       "      <td>./.:0,0:0</td>\n",
       "      <td>...</td>\n",
       "      <td>0/0:15,0:15:45:.:.:0,45,645</td>\n",
       "      <td>0/0:12,0:12:33:.:.:0,33,495</td>\n",
       "      <td>0/0:37,0:37:93:.:.:0,93,1385</td>\n",
       "      <td>0/0:15,0:15:39:.:.:0,39,585</td>\n",
       "      <td>0/1:7,9:16:99:0|1:8350_G_A:357,0,267</td>\n",
       "      <td>0/1:6,4:10:99:0|1:8350_G_A:147,0,269</td>\n",
       "      <td>0/0:15,0:15:45:.:.:0,45,672</td>\n",
       "      <td>0/0:25,0:25:69:.:.:0,69,1035</td>\n",
       "      <td>0/0:4,0:4:12:.:.:0,12,167</td>\n",
       "      <td>0/1:9,2:11:54:0|1:8350_G_A:54,0,401</td>\n",
       "    </tr>\n",
       "    <tr>\n",
       "      <th>4</th>\n",
       "      <td>NewChr1</td>\n",
       "      <td>9053</td>\n",
       "      <td>.</td>\n",
       "      <td>T</td>\n",
       "      <td>G</td>\n",
       "      <td>705.17</td>\n",
       "      <td>PASS</td>\n",
       "      <td>AC=8;AF=0.129;AN=62;BaseQRankSum=0.736;Clippin...</td>\n",
       "      <td>GT:AD:DP:GQ:PL</td>\n",
       "      <td>0/0:3,0:3:9:0,9,112</td>\n",
       "      <td>...</td>\n",
       "      <td>0/0:3,0:3:9:0,9,120</td>\n",
       "      <td>./.:0,0:0</td>\n",
       "      <td>0/1:14,7:21:99:187,0,440</td>\n",
       "      <td>0/0:1,0:1:3:0,3,37</td>\n",
       "      <td>0/0:3,0:3:0:0,0,52</td>\n",
       "      <td>0/1:1,3:4:33:111,0,33</td>\n",
       "      <td>1/1:0,3:3:9:128,9,0</td>\n",
       "      <td>0/0:3,0:3:9:0,9,120</td>\n",
       "      <td>0/0:2,0:2:6:0,6,84</td>\n",
       "      <td>0/0:3,0:3:9:0,9,135</td>\n",
       "    </tr>\n",
       "  </tbody>\n",
       "</table>\n",
       "<p>5 rows × 42 columns</p>\n",
       "</div>"
      ],
      "text/plain": [
       "    #CHROM   POS ID REF ALT     QUAL FILTER  \\\n",
       "0  NewChr1  8286  .   G   C  6676.13   PASS   \n",
       "1  NewChr1  8328  .   C   A   271.81   PASS   \n",
       "2  NewChr1  8333  .   G   A    80.81   PASS   \n",
       "3  NewChr1  8350  .   G   A   757.97   PASS   \n",
       "4  NewChr1  9053  .   T   G   705.17   PASS   \n",
       "\n",
       "                                                INFO                  FORMAT  \\\n",
       "0  AC=31;AF=0.484;AN=64;BaseQRankSum=-6.760e-01;C...          GT:AD:DP:GQ:PL   \n",
       "1  AC=1;AF=0.016;AN=64;BaseQRankSum=0.363;Clippin...          GT:AD:DP:GQ:PL   \n",
       "2  AC=1;AF=0.016;AN=64;BaseQRankSum=0.303;Clippin...          GT:AD:DP:GQ:PL   \n",
       "3  AC=4;AF=0.063;AN=64;BaseQRankSum=1.06;Clipping...  GT:AD:DP:GQ:PGT:PID:PL   \n",
       "4  AC=8;AF=0.129;AN=62;BaseQRankSum=0.736;Clippin...          GT:AD:DP:GQ:PL   \n",
       "\n",
       "        Bactrian_Camel                 ...                   \\\n",
       "0            ./.:0,0:0                 ...                    \n",
       "1            ./.:0,0:0                 ...                    \n",
       "2            ./.:0,0:0                 ...                    \n",
       "3            ./.:0,0:0                 ...                    \n",
       "4  0/0:3,0:3:9:0,9,112                 ...                    \n",
       "\n",
       "                       llama20                      llama21  \\\n",
       "0      0/1:11,2:13:24:24,0,395      0/0:18,0:18:54:0,54,810   \n",
       "1      0/0:14,0:14:42:0,42,630      0/0:16,0:16:42:0,42,630   \n",
       "2      0/0:14,0:14:42:0,42,619      0/0:15,0:15:39:0,39,585   \n",
       "3  0/0:15,0:15:45:.:.:0,45,645  0/0:12,0:12:33:.:.:0,33,495   \n",
       "4          0/0:3,0:3:9:0,9,120                    ./.:0,0:0   \n",
       "\n",
       "                       vicugna0                    vicugna18  \\\n",
       "0       1/1:0,27:27:80:799,80,0      1/1:0,13:13:39:476,39,0   \n",
       "1      0/0:32,0:32:90:0,90,1350      0/0:13,0:13:36:0,36,540   \n",
       "2      0/0:32,0:32:90:0,90,1350      0/0:14,0:14:39:0,39,585   \n",
       "3  0/0:37,0:37:93:.:.:0,93,1385  0/0:15,0:15:39:.:.:0,39,585   \n",
       "4      0/1:14,7:21:99:187,0,440           0/0:1,0:1:3:0,3,37   \n",
       "\n",
       "                              vicugna20                             vicugna33  \\\n",
       "0               1/1:0,17:17:51:588,51,0                 1/1:0,9:9:27:336,27,0   \n",
       "1               0/0:16,0:16:45:0,45,675                 0/0:9,0:9:24:0,24,360   \n",
       "2               0/0:16,0:16:45:0,45,675                 0/0:9,0:9:27:0,27,362   \n",
       "3  0/1:7,9:16:99:0|1:8350_G_A:357,0,267  0/1:6,4:10:99:0|1:8350_G_A:147,0,269   \n",
       "4                    0/0:3,0:3:0:0,0,52                 0/1:1,3:4:33:111,0,33   \n",
       "\n",
       "                     vicugna37                     vicugna38  \\\n",
       "0      1/1:0,12:12:36:446,36,0       1/1:0,25:25:75:878,75,0   \n",
       "1      0/0:14,0:14:39:0,39,585       0/0:23,0:23:66:0,66,986   \n",
       "2      0/0:14,0:14:39:0,39,585       0/0:23,0:23:66:0,66,986   \n",
       "3  0/0:15,0:15:45:.:.:0,45,672  0/0:25,0:25:69:.:.:0,69,1035   \n",
       "4          1/1:0,3:3:9:128,9,0           0/0:3,0:3:9:0,9,120   \n",
       "\n",
       "                   vicugna39                            vicugna40  \n",
       "0      1/1:0,7:7:21:249,21,0                1/1:0,8:8:24:267,24,0  \n",
       "1      0/0:7,0:7:21:0,21,312                0/0:8,0:8:21:0,21,315  \n",
       "2      0/0:7,0:7:21:0,21,312                0/0:8,0:8:21:0,21,315  \n",
       "3  0/0:4,0:4:12:.:.:0,12,167  0/1:9,2:11:54:0|1:8350_G_A:54,0,401  \n",
       "4         0/0:2,0:2:6:0,6,84                  0/0:3,0:3:9:0,9,135  \n",
       "\n",
       "[5 rows x 42 columns]"
      ]
     },
     "execution_count": 33,
     "metadata": {},
     "output_type": "execute_result"
    }
   ],
   "source": [
    "dataframeVCF.head()"
   ]
  },
  {
   "cell_type": "code",
   "execution_count": 32,
   "metadata": {},
   "outputs": [],
   "source": [
    "\n",
    "def computeLD(dataframe,colname,allele_locA,allele_locB):\n",
    "    dataframe[colname+'freq'] = dataframe[colname].str.replace('[:].*','',0)\n",
    "    dataframe[colname+'freq'] = dataframe[colname+'freq'].str.replace('[.]','0',0)\n",
    "    dataframe[colname+'freq'] = dataframe[colname+'freq'].str.replace('[2-9]','0',0)\n",
    "    dataframe[colname+'freq1st'] = dataframe[colname+'freq'].str[0:1]\n",
    "    dataframe[colname+'freq2nd'] = dataframe[colname+'freq'].str[2:3]\n",
    "    firstAlleleFreq = sum(list(map(int,dataframe[colname+'freq1st'].tolist())))\n",
    "    secondAlleleFreq = sum(list(map(int,dataframe[colname+'freq2nd'].tolist())))\n",
    "    pA = (firstAlleleFreq[allele_locA]+secondAlleleFreq[allele_locA])/secondAlleleFreq[allele_locA]\n",
    "    pB = (firstAlleleFreq[allele_locB]+secondAlleleFreq[allele_locB])/secondAlleleFreq[allele_locB]\n",
    "    pAB = pA*pB\n",
    "    dAB = pAB - pA*pB\n",
    "    return dAB\n",
    "\n",
    "# 0/0 homozygous reference\n",
    "# 0/1 heterozygous reference\n",
    "# 1/0 heterozygous reference (wont encounter)\n",
    "# 1/1 homozygous alt\n",
    "\n",
    "\n"
   ]
  },
  {
   "cell_type": "code",
   "execution_count": 35,
   "metadata": {},
   "outputs": [
    {
     "ename": "TypeError",
     "evalue": "'int' object is not subscriptable",
     "output_type": "error",
     "traceback": [
      "\u001b[0;31m---------------------------------------------------------------------------\u001b[0m",
      "\u001b[0;31mTypeError\u001b[0m                                 Traceback (most recent call last)",
      "\u001b[0;32m<ipython-input-35-fb14d980477e>\u001b[0m in \u001b[0;36m<module>\u001b[0;34m()\u001b[0m\n\u001b[0;32m----> 1\u001b[0;31m \u001b[0mcomputeLD\u001b[0m\u001b[0;34m(\u001b[0m\u001b[0mdataframeVCF\u001b[0m\u001b[0;34m,\u001b[0m\u001b[0;34m\"vicugna38\"\u001b[0m\u001b[0;34m,\u001b[0m\u001b[0;36m1\u001b[0m\u001b[0;34m,\u001b[0m\u001b[0;36m2\u001b[0m\u001b[0;34m)\u001b[0m\u001b[0;34m\u001b[0m\u001b[0m\n\u001b[0m",
      "\u001b[0;32m<ipython-input-32-3622912e147a>\u001b[0m in \u001b[0;36mcomputeLD\u001b[0;34m(dataframe, colname, allele_locA, allele_locB)\u001b[0m\n\u001b[1;32m      8\u001b[0m     \u001b[0mfirstAlleleFreq\u001b[0m \u001b[0;34m=\u001b[0m \u001b[0msum\u001b[0m\u001b[0;34m(\u001b[0m\u001b[0mlist\u001b[0m\u001b[0;34m(\u001b[0m\u001b[0mmap\u001b[0m\u001b[0;34m(\u001b[0m\u001b[0mint\u001b[0m\u001b[0;34m,\u001b[0m\u001b[0mdataframe\u001b[0m\u001b[0;34m[\u001b[0m\u001b[0mcolname\u001b[0m\u001b[0;34m+\u001b[0m\u001b[0;34m'freq1st'\u001b[0m\u001b[0;34m]\u001b[0m\u001b[0;34m.\u001b[0m\u001b[0mtolist\u001b[0m\u001b[0;34m(\u001b[0m\u001b[0;34m)\u001b[0m\u001b[0;34m)\u001b[0m\u001b[0;34m)\u001b[0m\u001b[0;34m)\u001b[0m\u001b[0;34m\u001b[0m\u001b[0m\n\u001b[1;32m      9\u001b[0m     \u001b[0msecondAlleleFreq\u001b[0m \u001b[0;34m=\u001b[0m \u001b[0msum\u001b[0m\u001b[0;34m(\u001b[0m\u001b[0mlist\u001b[0m\u001b[0;34m(\u001b[0m\u001b[0mmap\u001b[0m\u001b[0;34m(\u001b[0m\u001b[0mint\u001b[0m\u001b[0;34m,\u001b[0m\u001b[0mdataframe\u001b[0m\u001b[0;34m[\u001b[0m\u001b[0mcolname\u001b[0m\u001b[0;34m+\u001b[0m\u001b[0;34m'freq2nd'\u001b[0m\u001b[0;34m]\u001b[0m\u001b[0;34m.\u001b[0m\u001b[0mtolist\u001b[0m\u001b[0;34m(\u001b[0m\u001b[0;34m)\u001b[0m\u001b[0;34m)\u001b[0m\u001b[0;34m)\u001b[0m\u001b[0;34m)\u001b[0m\u001b[0;34m\u001b[0m\u001b[0m\n\u001b[0;32m---> 10\u001b[0;31m     \u001b[0mpA\u001b[0m \u001b[0;34m=\u001b[0m \u001b[0;34m(\u001b[0m\u001b[0mfirstAlleleFreq\u001b[0m\u001b[0;34m[\u001b[0m\u001b[0mallele_locA\u001b[0m\u001b[0;34m]\u001b[0m\u001b[0;34m+\u001b[0m\u001b[0msecondAlleleFreq\u001b[0m\u001b[0;34m[\u001b[0m\u001b[0mallele_locA\u001b[0m\u001b[0;34m]\u001b[0m\u001b[0;34m)\u001b[0m\u001b[0;34m/\u001b[0m\u001b[0msecondAlleleFreq\u001b[0m\u001b[0;34m[\u001b[0m\u001b[0mallele_locA\u001b[0m\u001b[0;34m]\u001b[0m\u001b[0;34m\u001b[0m\u001b[0m\n\u001b[0m\u001b[1;32m     11\u001b[0m     \u001b[0mpB\u001b[0m \u001b[0;34m=\u001b[0m \u001b[0;34m(\u001b[0m\u001b[0mfirstAlleleFreq\u001b[0m\u001b[0;34m[\u001b[0m\u001b[0mallele_locB\u001b[0m\u001b[0;34m]\u001b[0m\u001b[0;34m+\u001b[0m\u001b[0msecondAlleleFreq\u001b[0m\u001b[0;34m[\u001b[0m\u001b[0mallele_locB\u001b[0m\u001b[0;34m]\u001b[0m\u001b[0;34m)\u001b[0m\u001b[0;34m/\u001b[0m\u001b[0msecondAlleleFreq\u001b[0m\u001b[0;34m[\u001b[0m\u001b[0mallele_locB\u001b[0m\u001b[0;34m]\u001b[0m\u001b[0;34m\u001b[0m\u001b[0m\n\u001b[1;32m     12\u001b[0m     \u001b[0mpAB\u001b[0m \u001b[0;34m=\u001b[0m \u001b[0mpA\u001b[0m\u001b[0;34m*\u001b[0m\u001b[0mpB\u001b[0m\u001b[0;34m\u001b[0m\u001b[0m\n",
      "\u001b[0;31mTypeError\u001b[0m: 'int' object is not subscriptable"
     ]
    }
   ],
   "source": [
    "computeLD(dataframeVCF,\"vicugna38\",1,2)"
   ]
  },
  {
   "cell_type": "code",
   "execution_count": null,
   "metadata": {
    "collapsed": true
   },
   "outputs": [],
   "source": []
  }
 ],
 "metadata": {
  "kernelspec": {
   "display_name": "Python 3",
   "language": "python",
   "name": "python3"
  },
  "language_info": {
   "codemirror_mode": {
    "name": "ipython",
    "version": 3
   },
   "file_extension": ".py",
   "mimetype": "text/x-python",
   "name": "python",
   "nbconvert_exporter": "python",
   "pygments_lexer": "ipython3",
   "version": "3.6.1"
  }
 },
 "nbformat": 4,
 "nbformat_minor": 2
}
